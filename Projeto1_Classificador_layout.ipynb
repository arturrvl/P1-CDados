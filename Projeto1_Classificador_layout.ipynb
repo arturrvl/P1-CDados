{
 "cells": [
  {
   "cell_type": "markdown",
   "metadata": {},
   "source": [
    "# Projeto 1 - Ciência dos Dados"
   ]
  },
  {
   "cell_type": "markdown",
   "metadata": {},
   "source": [
    "##### Nome: Artur Reppucci Vaz de Lima\n",
    "\n",
    "##### Nome: Pedo Paulo Tibério"
   ]
  },
  {
   "cell_type": "markdown",
   "metadata": {},
   "source": [
    "## Classificador  automático de sentimento\n",
    "Estamos trabalhando com a maior empresa do mundo, Apple, então consideramos como relevante quaisquer opiniões diretas e indiretas a respeito de produtos, softwares e atualizações relacionadas à marca. Alguns comentários sarcásticos e irônicos foram classificados como relevantes, já que, os analisando bem, podemos indentificar alguma insatisfação do cliente. Entretanto, quando ocorrer a classificação automática, talvez o código não consiga identificar como relevante alguns tweets sarcásticos/irônicos, já que se trata de um sentimento puramente humano."
   ]
  },
  {
   "cell_type": "markdown",
   "metadata": {},
   "source": [
    "## Preparando o ambiente\n"
   ]
  },
  {
   "cell_type": "code",
   "execution_count": 53,
   "metadata": {},
   "outputs": [
    {
     "name": "stdout",
     "output_type": "stream",
     "text": [
      "Encontrei o arquivo Apple.xlsx, tudo certo para prosseguir com a prova!\n"
     ]
    },
    {
     "name": "stderr",
     "output_type": "stream",
     "text": [
      "[nltk_data] Downloading package stopwords to\n",
      "[nltk_data]     C:\\Users\\limaa\\AppData\\Roaming\\nltk_data...\n",
      "[nltk_data]   Package stopwords is already up-to-date!\n"
     ]
    }
   ],
   "source": [
    "%matplotlib inline\n",
    "import pandas as pd\n",
    "import matplotlib.pyplot as plt\n",
    "import numpy as np\n",
    "import nltk\n",
    "from nltk.stem import RSLPStemmer \n",
    "import os\n",
    "import nltk\n",
    "import string\n",
    "import re\n",
    "nltk.download('stopwords')\n",
    "\n",
    "\n",
    "filename = 'Apple.xlsx'\n",
    "if filename in os.listdir():\n",
    "    print(f'Encontrei o arquivo {filename}, tudo certo para prosseguir com a prova!')\n",
    "else:\n",
    "    print(f'Não encontrei o arquivo {filename} aqui no diretório {os.getcwd()}, será que você não baixou o arquivo?')"
   ]
  },
  {
   "cell_type": "markdown",
   "metadata": {},
   "source": [
    "### Carregando a base de dados com os tweets classificados como relevantes e não relevantes:"
   ]
  },
  {
   "cell_type": "code",
   "execution_count": 54,
   "metadata": {},
   "outputs": [],
   "source": [
    "excel = pd.ExcelFile('Apple.xlsx')\n",
    "treino = pd.read_excel(excel, 'Treinamento')\n",
    "teste = pd.read_excel(excel, 'Teste')\n",
    "treino.Treinamento = treino.Treinamento.astype('category')"
   ]
  },
  {
   "cell_type": "markdown",
   "metadata": {},
   "source": [
    "### Preparando o banco de dados 'Treinamento'"
   ]
  },
  {
   "cell_type": "markdown",
   "metadata": {},
   "source": [
    "#### Função que faz uma \"limpeza'' na base de dados "
   ]
  },
  {
   "cell_type": "code",
   "execution_count": 64,
   "metadata": {},
   "outputs": [
    {
     "ename": "SyntaxError",
     "evalue": "invalid syntax (<ipython-input-64-b6888e007652>, line 2)",
     "output_type": "error",
     "traceback": [
      "\u001b[1;36m  File \u001b[1;32m\"<ipython-input-64-b6888e007652>\"\u001b[1;36m, line \u001b[1;32m2\u001b[0m\n\u001b[1;33m    sem_@ = a\u001b[0m\n\u001b[1;37m          ^\u001b[0m\n\u001b[1;31mSyntaxError\u001b[0m\u001b[1;31m:\u001b[0m invalid syntax\n"
     ]
    }
   ],
   "source": [
    "def limpeza(doc):\n",
    "    sem_arroba = re.sub('@[a-z,A-Z,0-9]')\n",
    "    sem_link = re.sub()\n",
    "    return doc"
   ]
  },
  {
   "cell_type": "markdown",
   "metadata": {},
   "source": [
    "#### Código que divide dependendo da relevância"
   ]
  },
  {
   "cell_type": "code",
   "execution_count": 56,
   "metadata": {},
   "outputs": [
    {
     "name": "stdout",
     "output_type": "stream",
     "text": [
      "['rt @bultaourune: 🚨dynanite continua em #2 na pré-votação do music core dessa semana. essa votação vale 10% dos critérios pro win (1°lugar=1…', '@apple_juice53 eu que lute mesmo né eunwoo 🥵', 'apesar de ser cadelinha do spotify, acho que o apple music vem aí, depois do apple one....', '@mayerdarah é só entrar no site da apple e solicitar p testar', '1h8 o primeiro episodio sifude se for pra ver um filme eu vejo bsd dead apple  pela 5 vez', 'rt @andre_md77: e eu que fico a dar like nessa cena do apple event só para ver a animação e tiro o like só para a pessoa não ficar com fama…', 'a-c-a-b https://t.co/nb9jmcdg8p', '@ax_xavier tava 300 reais lá boulevard, pela internet tá bem mais em conta. eu tava doido do meu edy pra comprar um da apple mas tava o olho!', 'aaaa blz', 'eita, um cara que trabalhou na @apple me add no #linkedin haha que mundo louco', 'rt @vinnimendees: eu indo receber o ios 14 🥰 #apple #appleevent https://t.co/lvhbw4u05i', '@apple_ascent vey qnd eu atualizo a tml sempre vem tweet seu incrível kkkkk', 'precisando de um papai ou mamãe de açúcar pra me dar uma apple pencil de presente de aniversário', 'tenho certeza que a apple só vai lançar o ios 14 as 14h da tarde pelo conceito kkkkk', 'eu indo receber o ios 14 🥰 #apple #appleevent https://t.co/lvhbw4u05i', 'nosso convidado de hoje é roteirista do premiado longa \"alice junior\", já disponível nas plataformas vod. confira nosso papo com o ator e roteirista luiz bertazzo! 🎧 escute pelo spotify, apple podcasts e em outros agregadores. https://t.co/8jcfxpzbj4', 'eu esqueci da fiona apple', 'rt @dovecameronbr: inesquecíveis: os álbuns de \"descendentes 2\" e \"descendentes 3\" estão nos charts da apple music e do itunes.', 'é, belez q eu sou fanboy da apple, mas esse s20+ aqui tá absurdo de lindo véi... só faltou ser ios kkkkkk https://t.co/6jh2fjuim4', 'rt @itspedrito: o meu iphone após a apple lança um novo modelo e o meu atualizar #appleevent https://t.co/bdpxsotzfp', 'rt @site5sosbr: saiu!\\n\\nouça agora o tão esperado c a l m, quarto álbum de estúdio da banda 5 seconds of summer.\\n\\ndisponível em todas as pla…', 'rt @btspurplebrasil: [army de atenção] \\n\\n#bts foi nomeado esta semana no music core! \\ninstale o aplicativo mubeat: \\n▪️ android: (https://t.…', 'o apple music não compartilha mais o nome da música só do álbum, o terror', 'rt @btscene_br: [✨] • ‘blueberry eyes (max ft. suga)’ alcançou o #1 lugar no itunes em 61 países!\\n\\n#blueberryeyes #maxxsuga #suga\\n@bts_twt…', '@apple_juice53 @dorameiraocn @spdoramas jura? tá na minha lista do viki, acho q não vou esperar até outubro', 'a situação ta tão critica q até sapa famosinha veio me ajudar, pqp', 'as mina achando q eu vou ficar mal kkkkkkkkkkkkk\\n\\nja fiquei, mas to melhorando, da uma segurada', 'rt @taylormalandra: apple music brasil 🇧🇷 \\n\\n66. #cardigan\\xa0\\xa0 (+5) *peak #1* \\n96. exile (+9) *peak #1* \\n136. the 1 (+11) *peak #1*\\n184. betty…', 'a gem https://t.co/cnndswbs1n', 'rt @louiswithlou: minha situação resumida numa imagem q achei na tl: https://t.co/w3g8sytzei', '@apple_ascent amg vc ta bem? quer conversar?', 'rt @istay4skzi: ⇱ tutorial | naver ⇲\\naprenda a usar o naver, uma das principais plataformas de pesquisa e stream da coreia do sul\\n\\n🏷️ downl…', '@apple_juice53 esse drama tá me lembrando a novela a madrasta, só que na novela o homem já casa sabendo que ela é mãe dos pirralhos chatos. nesse o coitado vai levar um choque daqueles 🤣🤣🤣🤣🤣', 'rt @suportbangtan: info|📊 \"blueberry eyes\" do max feat suga do @bts_twt, alcançou o #1 no itunes em 60 países, incluindo o brasil! 🎊👏🏻💜\\n\\n h…', 'minha irmã “hel, uma escolha bem difícil: joanna newsom ou fiona apple?” https://t.co/ttq3knk6xn', 'rt @zeloworldbr: 《twitter》15.09.20\\n\\n#zelo publicou um tweet\\n\\n&lt;[ep] scarecrow saiu agora💕💕\\n\\no lançamento mundial será no final de setembro v…', 'so queria estar a ouvir isto com a marianna e o henrique fds  https://t.co/lwajizd0ib', 'cada notificação da apple que chega no meu celular é para me lembrar o quão pobre eu sou.', '@thaist14 eu gosto\\né bem dramático', 'info|📊 \"blueberry eyes\" do max feat suga do @bts_twt, alcançou o #1 no itunes em 60 países, incluindo o brasil! 🎊👏🏻💜\\n\\n https://t.co/s8c87ykdsq', '@falarafo e eu queria tá com esse traje gritando “ô o kit de big apple com energético” no centrinho de atlântida', 'quero um apple watch. será se é muita ousadia eu comprar um não tendo um tostão ?', 'rt @nfl_cantadas: maratona nfl 7! eu, @redredmia e @lefttacklebr  falamos dos destaques da semana 1 e tem a volta do momento jorge lafond e…', 'povo fica puto cmg e eu fico ????? ai dps eu lembro doq eu fiz e acaba sendo q eu faço o povo entender errado 🤡🍷', '@bedorameira só sei agradecer', '@apple_ascent você é mais q isso, o último pedaço de pizza, que todo mundo briga pra ter tlgd', 'fisicamente eu sou uma pessoa mas eu queria ser esse album  https://t.co/bfpsiximvs', '@apple_juice53 @spdoramas kkkkskfjeisiakd eu toda interessada em terminar o dorama e é isso que recebo', 'ouça via:\\n\\n🎧- spotify: https://t.co/ndpfhg8oyp\\n🍎- apple podcasts: https://t.co/ms8ml15p0d\\n🔸- google podcasts: https://t.co/u49uig5web\\n🎤- deezer: https://t.co/g3bqaioefp\\n☁️- soundcloud: https://t.co/1yef4k9gmh\\n\\ne não deixe de compartilhar!\\n\\n#palmeiras\\xa0#verdao\\xa0#podcast', '@apple_juice53 aff tá em coreano 😔✊', 'rt @veswho: oi @apple , o @luansantana está com um projeto para ajudar o pantanal, há dois meses o projeto está pronto e a procura de patro…', '@izzynobre ideias pra vídeos (legal saber sua opinião): \\n\\n- super mario 3d all star e a nintendo sendo nintendo\\n- fortnite x apple\\n- novo batman', 'mili dançando apple tree, tchau\\nhttps://t.co/iqbdokh5vv', '@anwhood acordei de novo... \\nvish amg pior q n, consegui falar com a apple mas como a loja ta fechada eu teria q ir na assistência autorizada ai eu teria que pagar', 'oi @apple , o @luansantana está com um projeto para ajudar o pantanal, há dois meses o projeto está pronto e a procura de patrocínio/apoio, você poderia ajudar? mesmo que seja um tweet sobre a causa já faria a diferença! \\n\\no pantanal chama', '@apple_juice53 @spdoramas meu deus do céu!!!!! é agora que eu saio do ep 6??????', '@apple_juice53 meu deus esse menino era um bebê oq aconteceu????? kkkkkkkkk https://t.co/kuwtdqqbb2', '@apple_ascent voce conversou consigo mesma né', '⠀\\n\\uf8ff; apple\\xa0watch se. tem tudo para você gostar.\\nmais informações em: https://t.co/epfudncgve\\n   ⠀', '@_unicorniozin @apple_ascent amigas parem', '🚨 podcast no ar 🚨\\n\\n➡ vitória sobre os #vikings, lesões + prévia #lions at #packers. 1-0 toda semana 🔥\\n\\nouça agora ❗\\n\\n👉spotify: https://t.co/izwsfiv9kn\\n\\n👉 apple podcast: https://t.co/kz0wp5bhnu\\n\\n👉google podcast: https://t.co/oovxiql1qa\\n\\n#gopackgo #nfltwitter #cheesecast 🎙️ https://t.co/mh3myy2qej', '@apple_juice53 aaaaaaaaa amgg, esse drama é tudo 🥺🥺', '@pajuxfrank @aaurum_ consulte o billboard hot 100, lá eles medem stream em spotify, youtube, deezer, apple music, tidal, downloads no itunes execuções nas rádios', '@alanisrodrocc @apple_ascent e os fatos', '@apple_pie_baby saudades já', 'rt @alinadurso: mega importante que as pessoas parem de satirizar as crises da raissa e tratar como frescura.\\n\\neu fui diagnosticada com tpb…', 'vendo 1 fone original apple (tenho sobrando aqui)', '@leehearper ai amg, pare, vc tbm é 🥺', 'rt @tabarezh: a \\u2066@maartagoncalves\\u2069 está a bordo do alan kurdi, algures no mediterrâneo, e tem histórias para contar 🔭 (spotify: https://t.c…', 'fico aqui relembrando que little apple foi um flop do caralho, mas eu amava tanto................ tot', 'lembrei do ceo do spotify esses dias denunciando de novo a apple de prejudicar o app dele nos iphones https://t.co/hc8zrbxvfj', 'meu deus o surto da apple #appleevent', '✔ouça no spotify: https://t.co/a8rbomkeep\\n\\n✔ouça no itunes: https://t.co/pzv3cjfwmp\\n\\n✔ouça no google podcasts: https://t.co/2ljvculwzp\\n\\n✔ouça no castbox: https://t.co/0xpkemnezo\\n\\n✔ouça no overcast: https://t.co/mgnopgdj4j\\n\\n✔ouça em nosso site: https://t.co/zral1f0cwk https://t.co/gwqqvjex92', 'rt @btsnoticia: [chart] dynamite ocupa o oitavo lugar no ranking diário da apple music mundial.\\n\\n#onbts #army #kcamexico @bts_twt', '@madureiranathan @polianecec único siri q conheço é da apple, isso pra mim é escorpião kkkkkk', '⚠️ tá no ar nosso bate-papo com o comediante @ogiolisboa e seguinte: ⚠️\\n\\nimperdível gurizada 🔥👈🏼\\n\\ncorre pra ouvir!!! 👊🏼👊🏼👊🏼\\n\\nestamos disponíveis no spotify, deezer, apple podcasts, castbox, radiopublic e stitcher! 🎧✅ https://t.co/99dasscg1h', '@alwaysh_p @spdoramas eu n minto gente eu n minto', '@jiwookz @kissybin eu to em choque', '@otaviomms @apple atenta', 'laura compra minecraft dnv e me passa seu id apple pra eu poder jogar obrigada', '@rowoonglow to achando que ele curte ser solteiro', '#nowplaying #podcast #jornalusp #especiaisusp - o museu da inconfidência  https://t.co/qqidaeg8ot', '@leehearper eu to viciada, minha filha, pq tu acha q ganhei tanto seguidor em pouco tempo???? vivo nisso aq', 'bom dia ☀️  https://t.co/bckfoogly9', 'revoltada que esqueci meu adaptador do fone da apple com a mandi. aaaaaaaaa', '@kiannyfarias @apple alo galvão', '@apple_ascent pior q tbm to viciada', 'baixe pelo link\\nandroid: https://t.co/nafomyexi7\\nios: https://t.co/px6m4ozj9q', 'eu nem atualizei para o ios 13.7 😂😂😂 desculpa apple', '@ofseokjinnie @spdoramas vai se cataaaaaaaaaaaaaaaaar', 'apple me dá um celular novo', 'oto me sentindo a última bolacha do pacote nmrl https://t.co/jhsasuxebq', '@angelslovs quem guenta?', 'rt @brhuno: a apple serviu demais aqui https://t.co/tnoq2k5gwj', '@bedorameira sim, amg, que belezinha kkkkk', '@dorameiraocn vai levar um tombo para o qual eu n to pronta!', '@joaolindoso1 também acho que vai. triste fim. a apple humilha a gente!', '@natachacfs esse aí, minha filha....socorro', '@mororavezeiro @jowlee_ @italocubas1 @duhmino @fortnitegame ela não é coitadinha, mas ta longe de estar errada, tanta gente que se fode pq depende da apple store pra botar seus app, a epic só tentou barrar isso (que n deu mt certo) mas n muda o fato de que isso é melhor do quê fazer tudo isso apenas por ganho próprio', '@apple_juice53 deus eu sei que tu me sondas 🙏🏻', '@mariahjussi amg, são 3 e todas adoráveis kkkkkkkkkkkk', 'grifinorio é um povo barraqueiro né, mds', '@apple_ascent cara oq a gente tem pra hoje eh rir e fazer piada das desgraças', 'sorteando um grupinho de pessoas pra entrar no grupo familiar cmg no apple music 🥳🥳', 'rt @centralanittabr: bom dia! já fizeram o pre-save de me gusta? está disponível pro spotify, apple music e deezer! https://t.co/pe0yam4x87', 'rt @izzynobre: possiveis temas pra video hoje\\n\\n1) evento da apple e pq eu nao me importo mais\\n\\n2) a menina cujo marido mordeu por causa de…', 'eu to tão felizinha com minhas roupas e o dinheiro do aniversário 😭😭', '@glassbridgee enquanto todos os países da ásia não fizerem sua versão, isso n acaba pelo jeito kkkkkkkkkk', 'nem sinal do #ios14 por aqui... dona @apple, você prometeu...', '@apple_juice53 será q o velhinho gostoso desencalha agora?', 'rt @scitalkpodcast: scitalk 029 - matéria escura\\n\\n\\U0001fa90um dos maiores mistérios do universo.\\n\\nescute agora:\\nspotify: https://t.co/0fcogpyxaf\\nde…', '@caterdudy q foi linda, tbm te amo, marido 🥺', '@dorameiraocn @spdoramas meu deus eu sou alucinada por esse drama meu deus socorro meu dues', 'rt @miyajnk: fatos yurim\\n- ela sabe tocar piano.\\n- ela é boa em atuar.\\n- ela pratica taekwondo.\\n- ela é ex-membro da\\xa0apple.b. https://t.co/…', '@apple_juice53 @spdoramas @spdoramas esse era aquele q vc tava falando amg?', '@apple_ascent po infelizmente vc não é da minha cidade', 'apple event ontem ajudou a divulgar o smile quando ninguém nem mesmo tentou', '@giovannamesqu18 @lobomadu @paabline_ @apple kkkkkkkkkkkkkkkkkkkkkkkk, sai fora bicho. fala se num e sacanagi', 'eu flnd sozinha no meu quarto sobre raspar um lado da cabeça e sobre meu estilo de roupa, do nd soltei um \"julia, tu é sapatão\" dps parei e fiquei ???????', '@izzynobre fala sobre o maluco da máscara que mordeu a apple no evento do pitbull!', '@alanisrodrocc @_unicorniozin a realidade, amg', 'rt @mariehduda: saiu 🥳\\n\\nagora corre ouvir! \\nquem não ouvir é corno!\\n\\nanchor: https://t.co/cgbtytxaec\\n\\nyoutube (se inscreve!!): https://t.co…', '@crfx_melll mais vc tinha um da apple antes desse seu 8 ?', '@loopx3 cara, eu tenho uma teoria que a big apple desapareceu porque quase todo mundo da nossa idade tomou um porre muito fudido disso e não suporta nem chegar perto mais', '@apple_ascent aí te ❤', '@augustiada @spdoramas eu acabei de tirar print do meu app', '@swn_spencer apple tocou no coração do meu amigo... 🌹', '@apple_juice53 @spdoramas sério isso?', '@princehyunj1ns @nay07123895 do apple não tem mais efeito', 'a maior de todos os tempos!!!!!! https://t.co/w5x2q2dsyd', '@apple_juice53 mds é muito drama em 7 de outubro kkkkk \\npelo menos esse não é dia 7', '@wjunior22gn @vivobr @apple bom saber!', 'rt @gabrielgava_: vamos lá galera clique no link http://t.co/jfoirrdott escolha a música e adquira seu mp3 vamos quebrar tuuuuuuuuudo! gabr…', '@aneklein_ uma merda, e ainda n comi nd, amg', '@apple_juice53 kajskskakajss ninguém aguenta maaaais', '@apple_juice53 esse dorama é bom????', '@apple_juice53 minha mãe quer ver esse tombo então vou enfiar esse tombo não sei como na lista 🤣🤣', 'agr foi a música  https://t.co/ryysaevynh', '@apple_juice53 pai amado', 'pelo amor de deus alguém me ajuda eu to passando mal, alguém acorda a \\u2066@spdoramas\\u2069!\\namiga do céu meu deus meu deus https://t.co/xmbktf7r4o', 'rt @irismartins__: hoje completa 7 anos de work bitch, bora dar muito stream no spotify, apple music, deezer no hino e quem poder comprar n…', 'rt @qrcapital: se você tivesse investido $1000 nestas empresas no dia da quebra do lehman brothers (15/09/08), teria hoje:\\n\\nnetflix: $123,3…', '@soiagratia hsauhsuahushuahs acontece, amg, coreano n envelhece mesmo', '@apple_juice53 huuuum, tá ficando maduro, logo logo dá pra colher', 'até agora sem aceitar que a apple foi eliminada', '@futurenwalls @apple_ascent olha que incrível', '@futurenwalls comentando pros meus seguidorws verem 🤡🐮', 'rt @afterpetz: aparentemente a selena não conseguiu ser ne... ate pq sem falar do justin as músicas deram out do top30... ate o escoro em k…', '@apple_juice53 então ele vai ser um pai babão porque ficava pensando nos filhos, saía no intervalo pra ver os filhos, no 1º dia que foi levar os filhos na creche não queria largar o carrinho. kkkkkkk já como marido ao longo do drama ele melhorou, eu caso. 🤭', '@dorameiraocn são 3, aí eu acabei me confundindo! 😅', '@leehearper percebi q é isso msm, mds', '@myonlyseokjin_ estamos desistindo agora', 'compre a música no itunes (https://t.co/cwjunbbp35…)\\ne ouça muito no spotify (https://t.co/csimvgv6ag…)  @christiancha @t6hent @mundo_producoes @esencialbrasil #celos #christianchavez https://t.co/i32fi2lwn9', '@apple_juice53 @spdoramas eu fui até olhar pra ver se era real mesmo 🤩', '@vinibp8 @gabriel_3r @playstation_br sim, o lançamento será mundial porém somente vamos saber o valor no br quando começar a pré-venda.\\ntipo conferencia da apple que fala o valor so em dólar e euro.', 'amor ! https://t.co/bmlbviktem', 'tem episódio do @verde_nobranco no ar! falamos sobre a expectativa pro jogo de hoje. bora ouvir! \\n\\n🎧- spotify: https://t.co/3naadnym1f\\n🍎- apple podcasts: https://t.co/q5mqrlktav\\n🔸- google podcasts: https://t.co/vwifl32ff5\\n🎤- deezer: https://t.co/4xdxaavqnp', '@apple_ascent amg rlx pode chamar', '@apple e @samsungmobile coloca aqui uma coisa que ta fazendo muita falta hoje em dia...\\n\\ncelular sem câmera.\\n\\n#smartphone', 'rt @kenmmunist: vc entendeu donnie darko? parabéns amg agr quero ver conseguir entender bungo stray dogs: dead apple (2018)', 'lembrando que você também pode escutar nosso podcast em outras plataformas como\\n\\ngoogle\\nhttps://t.co/epxbb9cshq\\n\\ndeezer\\nhttps://t.co/msywkthm6k\\n\\ne apple\\nhttps://t.co/7aifttrzmt', 'rt @zeloworldbr: as tags escolhidas para usarmos no lançamento de scarecrow do #zelo são:\\n\\n#/zelo_scarecrow &amp; \\n#/젤로_scarecrow \\n\\nusem ela no…', '@moonseri3 orra se faria kkkkkkkkkkkkk', '@vetrano_manu @gaguerini ai amiga ihjkkkkkk eu esqueci q a apple manda p mim primeiro']\n"
     ]
    }
   ],
   "source": [
    "com_rel = treino[treino.Classificação == 1]\n",
    "com_rel_treino = com_rel['Treinamento']\n",
    "com_rel_lista = com_rel_treino.values.tolist()\n",
    "\n",
    "com_irrel = treino[treino.Classificação == 0]\n",
    "com_irrel_treino = com_irrel['Treinamento']\n",
    "com_irrel_lista = com_irrel_treino.values.tolist()\n",
    "print(com_irrel_lista)"
   ]
  },
  {
   "cell_type": "markdown",
   "metadata": {},
   "source": [
    "#### Código que separa as palavras "
   ]
  },
  {
   "cell_type": "code",
   "execution_count": 57,
   "metadata": {},
   "outputs": [],
   "source": [
    "com_rel_pp = [word for comment in com_rel_lista for word in comment.split()]\n",
    "com_irrel_pp = [word for comment in com_irrel_lista for word in comment.split()]            "
   ]
  },
  {
   "cell_type": "markdown",
   "metadata": {},
   "source": [
    "#### função que remove palavras sem importância (stopword)"
   ]
  },
  {
   "cell_type": "code",
   "execution_count": 58,
   "metadata": {},
   "outputs": [],
   "source": [
    "def removesp (lista):\n",
    "    sp = nltk.corpus.stopwords.words('portuguese')\n",
    "    palavras_safe = []\n",
    "    for i in lista:\n",
    "        if i not in sp:\n",
    "            palavras_safe.append(i)\n",
    "    return palavras_safe"
   ]
  },
  {
   "cell_type": "markdown",
   "metadata": {},
   "source": [
    "#### função que deixa apenas o radical da palavra"
   ]
  },
  {
   "cell_type": "code",
   "execution_count": 59,
   "metadata": {},
   "outputs": [],
   "source": [
    "def apenas_radical (lista):\n",
    "    radical = RSLPStemmer()\n",
    "    radical_palavras = []\n",
    "    for i in lista:\n",
    "        radical_palavras.append(radical.stem(i.lower()))\n",
    "    return radical_palavras\n",
    "    "
   ]
  },
  {
   "cell_type": "code",
   "execution_count": 60,
   "metadata": {},
   "outputs": [],
   "source": [
    "palavras_rel = apenas_radical(removesp(com_rel_pp))\n",
    "palavras_irrel = apenas_radical(removesp(com_irrel_pp))"
   ]
  },
  {
   "cell_type": "code",
   "execution_count": 62,
   "metadata": {},
   "outputs": [
    {
     "name": "stdout",
     "output_type": "stream",
     "text": [
      "appl     0.067797\n",
      "pra      0.011689\n",
      "io       0.011105\n",
      "watch    0.009936\n",
      "iphon    0.009936\n",
      "dtype: float64\n",
      "appl                       0.030868\n",
      "rt                         0.017472\n",
      "@apple_juice53             0.011648\n",
      "q                          0.009901\n",
      "pra                        0.009319\n",
      "                             ...   \n",
      "tl:                        0.000582\n",
      "https://t.co/xmbktf7r4     0.000582\n",
      "https://t.co/bdpxsotzfp    0.000582\n",
      "conta.                     0.000582\n",
      "compartilh                 0.000582\n",
      "Length: 1081, dtype: float64\n"
     ]
    }
   ],
   "source": [
    "#Frequências relativas\n",
    "p_r_s = pd.Series(palavras_rel)\n",
    "p_r_r = p_r_s.value_counts(True)\n",
    "print(p_r_r.head())\n",
    "\n",
    "p_i_s = pd.Series(palavras_irrel)\n",
    "p_i_r = p_i_s.value_counts(True)\n",
    "\n",
    "\n",
    "total_palavras = palavras_rel + palavras_irrel\n",
    "t_p_s = pd.Series(total_palavras)\n",
    "t_p_r = t_p_s.value_counts(True)"
   ]
  },
  {
   "cell_type": "code",
   "execution_count": null,
   "metadata": {},
   "outputs": [],
   "source": []
  },
  {
   "cell_type": "markdown",
   "metadata": {},
   "source": [
    "___\n",
    "### Verificando a performance do Classificador\n",
    "\n",
    "Agora você deve testar o seu classificador com a base de Testes."
   ]
  },
  {
   "cell_type": "code",
   "execution_count": null,
   "metadata": {},
   "outputs": [],
   "source": []
  },
  {
   "cell_type": "code",
   "execution_count": null,
   "metadata": {},
   "outputs": [],
   "source": []
  },
  {
   "cell_type": "code",
   "execution_count": null,
   "metadata": {},
   "outputs": [],
   "source": []
  },
  {
   "cell_type": "markdown",
   "metadata": {},
   "source": [
    "___\n",
    "### Concluindo"
   ]
  },
  {
   "cell_type": "code",
   "execution_count": null,
   "metadata": {},
   "outputs": [],
   "source": []
  },
  {
   "cell_type": "code",
   "execution_count": null,
   "metadata": {},
   "outputs": [],
   "source": []
  },
  {
   "cell_type": "markdown",
   "metadata": {},
   "source": [
    "___\n",
    "## Aperfeiçoamento:\n",
    "\n",
    "Os trabalhos vão evoluir em conceito dependendo da quantidade de itens avançados:\n",
    "\n",
    "* Limpar: \\n, :, \", ', (, ), etc SEM remover emojis\n",
    "* Corrigir separação de espaços entre palavras e emojis ou entre emojis e emojis\n",
    "* Propor outras limpezas e transformações que não afetem a qualidade da informação ou classificação\n",
    "* Criar categorias intermediárias de relevância baseadas na probabilidade: ex.: muito relevante, relevante, neutro, irrelevante, muito irrelevante (3 categorias: C, mais categorias conta para B)\n",
    "* Explicar por que não posso usar o próprio classificador para gerar mais amostras de treinamento\n",
    "* Propor diferentes cenários para Naïve Bayes fora do contexto do projeto\n",
    "* Sugerir e explicar melhorias reais com indicações concretas de como implementar (indicar como fazer e indicar material de pesquisa)\n",
    "* Montar um dashboard que realiza análise de sentimento e visualiza estes dados"
   ]
  },
  {
   "cell_type": "markdown",
   "metadata": {},
   "source": [
    "___\n",
    "## Referências"
   ]
  },
  {
   "cell_type": "markdown",
   "metadata": {},
   "source": [
    "[Naive Bayes and Text Classification](https://arxiv.org/pdf/1410.5329.pdf)  **Mais completo**\n",
    "\n",
    "[A practical explanation of a Naive Bayes Classifier](https://monkeylearn.com/blog/practical-explanation-naive-bayes-classifier/) **Mais simples**"
   ]
  },
  {
   "cell_type": "code",
   "execution_count": null,
   "metadata": {},
   "outputs": [],
   "source": []
  }
 ],
 "metadata": {
  "kernelspec": {
   "display_name": "Python 3",
   "language": "python",
   "name": "python3"
  },
  "language_info": {
   "codemirror_mode": {
    "name": "ipython",
    "version": 3
   },
   "file_extension": ".py",
   "mimetype": "text/x-python",
   "name": "python",
   "nbconvert_exporter": "python",
   "pygments_lexer": "ipython3",
   "version": "3.7.4"
  }
 },
 "nbformat": 4,
 "nbformat_minor": 4
}
